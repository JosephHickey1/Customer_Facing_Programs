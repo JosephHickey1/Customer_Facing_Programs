{
 "cells": [
  {
   "cell_type": "code",
   "execution_count": 1,
   "id": "98af6941",
   "metadata": {},
   "outputs": [],
   "source": [
    "try:\n",
    "    from numpy import where, linspace, asarray, array, nan_to_num, sqrt\n",
    "    \n",
    "except ImportError:\n",
    "    print(\"An error occurred while loading functions from the numpy module. Please check that these are loaded on your device and in your Python path.\")"
   ]
  },
  {
   "cell_type": "code",
   "execution_count": 2,
   "id": "1ac4424d",
   "metadata": {},
   "outputs": [],
   "source": [
    "class ConcentrationCalculator():\n",
    "    \"\"\"A suite of functions to test the effectiveness of different gas mixing setups.\n",
    "    Availiable attributes include average case and worse case accuracy of concentration \n",
    "    as well as an automated rough sizing of Alicat devices.\n",
    "    \"\"\"\n",
    "    \n",
    "\n",
    "    \n",
    "    def __init__(self, maxconc = 1000, minconc = 1, maxflow = 1000, minflow = 1, \\\n",
    "                 tankconc: list = [5000,100], alicatsizes: list = []):\n",
    "        \"\"\"Init function creates class attributes.\n",
    "        Parameters:\n",
    "            maxconc: Maximum concentration of span gas in PPM\n",
    "            minconc: Minimum concentration of span gas in PPM, use decimals for PPB\n",
    "            maxflow: Maximum flow rate of mixed gas in SCCM\n",
    "            minflow: Minimum flow rate of mixed gas in SCCM\n",
    "            tankconc: List of span gas concentrations available from supply tanks\n",
    "            alicatsizes: List of alicat flow rates to use, can also take nonstandard sizes\n",
    "        \"\"\"\n",
    "        \n",
    "        self.corrosive = False\n",
    "        if str(input(\"Will this use gases from our corrosive gas list? Y/N: \")).upper() == ('Y' or 'YES'):\n",
    "            self.corrosive = True\n",
    "        \n",
    "        self.HC = False\n",
    "        if str(input(\"Use high accuracy calibration devices? Y/N: \")).upper() == ('Y' or 'YES'):\n",
    "            self.HC = True\n",
    "        \n",
    "        self.maxconc = maxconc\n",
    "        self.minconc = minconc\n",
    "        self.maxflow = maxflow\n",
    "        self.minflow = minflow\n",
    "        self.tankconc = asarray(tankconc)\n",
    "        \n",
    "        # Checks if a list of devices was provided. If not, generates a rough set of devices for use on\n",
    "        # a factor of 10 basis covering the full range of flow. May not give exact Alicat device sizes\n",
    "        if bool(alicatsizes):\n",
    "            self.alicatsizes = asarray(alicatsizes)\n",
    "        else:\n",
    "            ratio = tankconc[0] // tankconc[1]\n",
    "            alicatsizes = []\n",
    "            i = self.maxflow\n",
    "            \n",
    "            while i >= (10 * (self.minflow)):\n",
    "                alicatsizes.append(i)\n",
    "                i /= 10\n",
    "            self.alicatsizes = asarray(alicatsizes)\n",
    "            \n",
    "        \n",
    "    \n",
    "    def Accuracy(self, flow, size):\n",
    "        \"\"\"Generates the accuracy statistics of a given device based on the flow rate\n",
    "        Parameters:\n",
    "            flow: The flow rate of gas through the device in SCCM\n",
    "            size: The size of the device being used in SCCM\n",
    "        Returns:\n",
    "            1x2 array containing the accuracy as a percentage of reading in index 0 and accuracy due to full \n",
    "            scale size in index 1 in SCCM\n",
    "        \"\"\"\n",
    "        \n",
    "        accuracy = []\n",
    "        \n",
    "        if self.corrosive:\n",
    "            if self.HC:\n",
    "                accuracy = [0.004, 0.002*size]\n",
    "            else:\n",
    "                accuracy = [0.008, 0.002*size]\n",
    "        else:\n",
    "            if size <= 5:\n",
    "                if self.HC and size == 5:\n",
    "                    accuracy = [0.004, 0.002*size]\n",
    "                else:\n",
    "                    accuracy = [0.008, 0.002*size]\n",
    "            elif size <= 20000:\n",
    "                if self.HC:\n",
    "                    if flow > size/2.5:\n",
    "                        accuracy = [0.005, 0.*size]\n",
    "                    else:\n",
    "                        accuracy = [0., 0.001*size]\n",
    "                else:\n",
    "                    if flow > size/3.:\n",
    "                        accuracy = [0.006, 0.*size]\n",
    "                    else:\n",
    "                        accuracy = [0., 0.001*size]\n",
    "            else:\n",
    "                if self.HC and size <= 500000:\n",
    "                    accuracy = [0.004, 0.002*size]\n",
    "                else:\n",
    "                    accuracy = [0.008, 0.002*size]\n",
    "                \n",
    "            \n",
    "        return asarray(accuracy)\n",
    "        \n",
    "    \n",
    "    def WorstCase(self, concentration, flow, size: list = []):\n",
    "        \"\"\"Calculates the worst case error in PPM of gas dilution for a specific concentration and \n",
    "        flow rate by adding errors linearly.\n",
    "        Parameters:\n",
    "            concentration: Target concentration of the diluted gas in PPM\n",
    "            flow: Target flow rate in SCCM of the final mixed gas\n",
    "            size: Optional set of devices to use with span gas flowing through the device in index 0 and \n",
    "                carrier gas flowing through the device in index 1\n",
    "        Returns:\n",
    "            low, high: the lower and upper bounds in PPM that would result from a worst case scenario\n",
    "        \"\"\"\n",
    "        \n",
    "        tank = min(self.tankconc[where(self.tankconc > concentration)])        \n",
    "        \n",
    "        spanflow, carrierflow = flow * (concentration / tank), flow * (1 - concentration / tank)\n",
    "        \n",
    "        if bool(size) and spanflow < size[0] and carrierflow < size[1]:\n",
    "            spansize, carriersize = size[0], size[1]\n",
    "        else:\n",
    "            spansize = min(self.alicatsizes[where(spanflow < self.alicatsizes)])\n",
    "            carriersize = min(self.alicatsizes[where(carrierflow < self.alicatsizes)])\n",
    "        \n",
    "        spanacc, carrieracc = self.Accuracy(spanflow, spansize), self.Accuracy(carrierflow, carriersize)\n",
    "        \n",
    "        spanerr, carriererr = spanacc[0] * spanflow + spanacc[1], carrieracc[0] * carrierflow + carrieracc[1]\n",
    "        \n",
    "        sl, sh = spanflow - spanerr, spanflow + spanerr\n",
    "        cl, ch = carrierflow - carriererr, carrierflow + carriererr\n",
    "        \n",
    "        # gives the lowest concentration and highest concentration given worst case flows\n",
    "        low = sl / (sl + ch) * tank\n",
    "        high = sh / (sh + cl) * tank\n",
    "        \n",
    "        return low, high\n",
    "        \n",
    "    \n",
    "    def AvgCase(self, concentration, flow, size: list = []):\n",
    "        \"\"\"Calculates the worst case error in PPM of gas dilution for a specific concentration and \n",
    "        flow rate by adding errors in quadriture.\n",
    "        Parameters:\n",
    "            concentration: Target concentration of the diluted gas in PPM\n",
    "            flow: Target flow rate in SCCM of the final mixed gas\n",
    "            size: Optional set of devices to use with span gas flowing through the device in index 0 and \n",
    "                carrier gas flowing through the device in index 1\n",
    "        Returns:\n",
    "            low, high: the lower and upper bounds in PPM that would result from a average case scenario\n",
    "                or otherwise occur from long term averaging of the diluted gas\n",
    "        \"\"\"\n",
    "        \n",
    "        tank = min(self.tankconc[where(self.tankconc > concentration)]) \n",
    "        \n",
    "        spanflow, carrierflow = flow * (concentration / tank), flow * (1 - concentration / tank)\n",
    "        \n",
    "        if bool(size) and spanflow < size[0] and carrierflow < size[1]:\n",
    "            spansize, carriersize = size[0], size[1]\n",
    "        else:\n",
    "            spansize = min(self.alicatsizes[where(spanflow < self.alicatsizes)])\n",
    "            carriersize = min(self.alicatsizes[where(carrierflow < self.alicatsizes)])\n",
    "        \n",
    "        spanacc, carrieracc = self.Accuracy(spanflow, spansize), self.Accuracy(carrierflow, carriersize)\n",
    "        \n",
    "        spanerr = sqrt((spanflow * spanacc[0])**2 + spanacc[1]**2)\n",
    "        carriererr = sqrt((carrierflow * carrieracc[0])**2 + carrieracc**2)\n",
    "        \n",
    "        sl, sh = spanflow - spanerr, spanflow + spanerr\n",
    "        cl, ch = carrierflow - carriererr, carrierflow + carriererr\n",
    "        \n",
    "        # gives the weighted worst case using average case (quadriture) flow errors as\n",
    "        # quadriture statistics are difficult to properly calculate for independent errors\n",
    "        low = sl / (sl + ch) * tank\n",
    "        high = sh / (sh + cl) * tank\n",
    "        \n",
    "        return low[0], high[0]\n",
    "        \n",
    "        \n",
    "    def TestRanges(self):\n",
    "        \"\"\"Generates an array of flows and concentrations within the bounds placed on the class\n",
    "        \"\"\"\n",
    "        \n",
    "        flows = linspace(self.minflow, self.maxflow, num=20, dtype=int)\n",
    "        concentrations = linspace(self.minconc, self.maxconc, num=20, dtype=int)\n",
    "        \n",
    "        return np.asarray([flows, concentrations])\n",
    "        \n",
    "    \n",
    "    def WholeShebang(self, flows=None, concentrations=None):\n",
    "        \"\"\"Creates an array of cases with the resulting worst case and average case error\n",
    "        Parameters:\n",
    "            flows: list of flow rates to check\n",
    "            concentrations: list of concentrations to check\n",
    "        Returns:\n",
    "            N by 6 array containing each combination of flow and concentration provided\n",
    "            along with the resulting error using well sized devices for each combination\n",
    "        \"\"\"\n",
    "        \n",
    "        if not bool(flows):\n",
    "            flows = self.TestRanges()[0]\n",
    "            \n",
    "        if not bool(concentrations):\n",
    "            concentrations = self.TestRanges()[1]\n",
    "        \n",
    "        stats = []\n",
    "        \n",
    "        for c in concentrations:\n",
    "            \n",
    "            for f in flows:\n",
    "                \n",
    "                flow = f\n",
    "                conc = c\n",
    "                concerravg = nan_to_num(asarray(self.AvgCase(conc,flow)),copy=False,nan=0)\n",
    "                concerrworst = nan_to_num(asarray(self.WorstCase(conc, flow)),copy=False,nan=0)\n",
    "                stats.append([flow, conc, concerravg[0], concerravg[1], concerrworst[0], concerrworst[1]])\n",
    "            \n",
    "        return asarray(stats,dtype=object)\n",
    "        \n",
    "    \n",
    "    \n",
    "    def Case(self, conc, flow, size: list = []):\n",
    "        \"\"\"Generates a single line array of useful data for any given gas dilution case\n",
    "        Parameters:\n",
    "            conc: Target concentration of the diluted gas in PPM\n",
    "            flow: Target flow rate in SCCM of the final mixed gas\n",
    "            size: Optional set of devices to use with span gas flowing through the device in index 0 and \n",
    "                carrier gas flowing through the device in index 1\n",
    "        Returns:\n",
    "            A 1x9 array containing the flow rate of the span gas, the device size for flowing the span gas,\n",
    "            the supply tank concentration, the carrier gas flow rate, the size of the device for flowing \n",
    "            the carrier gas, the lower and upper bounds of the average case error, and the lower and upper\n",
    "            bounds of the worst case error.\n",
    "        \"\"\"\n",
    "        \n",
    "        avgerr = self.AvgCase(conc, flow, size)\n",
    "        wrsterr = self.WorstCase(conc, flow, size)\n",
    "        \n",
    "        tank = min(self.tankconc[where(self.tankconc > conc)]) \n",
    "        spanflow, carrierflow = flow * (conc / tank), flow * (1 - conc / tank)\n",
    "        \n",
    "        if bool(size):\n",
    "            spansize, carriersize = size[0], size[1]\n",
    "        else:\n",
    "            spansize = min(self.alicatsizes[where(spanflow <= self.alicatsizes)])\n",
    "            carriersize = min(self.alicatsizes[where(carrierflow <= self.alicatsizes)])\n",
    "        \n",
    "        return array([spanflow, spansize, tank, carrierflow, carriersize, avgerr[0], avgerr[1], wrsterr[0], wrsterr[1]])\n",
    "    \n",
    "    \n",
    "    "
   ]
  },
  {
   "cell_type": "code",
   "execution_count": 3,
   "id": "ff6d696c",
   "metadata": {},
   "outputs": [
    {
     "name": "stdout",
     "output_type": "stream",
     "text": [
      "Will this use gases from our corrosive gas list? Y/N: \n",
      "Use high accuracy calibration devices? Y/N: \n"
     ]
    }
   ],
   "source": [
    "a = ConcentrationCalculator(maxconc=1000,maxflow=1000,tankconc=[50,2500])"
   ]
  },
  {
   "cell_type": "code",
   "execution_count": 8,
   "id": "ee3656d9",
   "metadata": {},
   "outputs": [
    {
     "data": {
      "text/plain": [
       "(295.6833943457693, 304.351538320622)"
      ]
     },
     "execution_count": 8,
     "metadata": {},
     "output_type": "execute_result"
    }
   ],
   "source": [
    "a.AvgCase(300, 800,[1000,1000])"
   ]
  },
  {
   "cell_type": "code",
   "execution_count": 9,
   "id": "77f2406b",
   "metadata": {},
   "outputs": [
    {
     "data": {
      "text/plain": [
       "(295.6833959144647, 304.3515366928723)"
      ]
     },
     "execution_count": 9,
     "metadata": {},
     "output_type": "execute_result"
    }
   ],
   "source": [
    "a.WorstCase(300, 800,[1000,1000])"
   ]
  },
  {
   "cell_type": "code",
   "execution_count": 6,
   "id": "6f86a54c",
   "metadata": {},
   "outputs": [
    {
     "data": {
      "text/plain": [
       "array([  96.        , 1000.        , 2500.        ,  704.        ,\n",
       "       1000.        ,  295.68339435,  304.35153832,  295.68339591,\n",
       "        304.35153669])"
      ]
     },
     "execution_count": 6,
     "metadata": {},
     "output_type": "execute_result"
    }
   ],
   "source": [
    "a.Case(300, 800,[1000,1000])"
   ]
  },
  {
   "cell_type": "code",
   "execution_count": 7,
   "id": "44cff9d4",
   "metadata": {},
   "outputs": [
    {
     "data": {
      "text/plain": [
       "array([  96.        ,  100.        , 2500.        ,  704.        ,\n",
       "       1000.        ,  296.84637893,  303.18251388,  296.8463805 ,\n",
       "        303.18251226])"
      ]
     },
     "execution_count": 7,
     "metadata": {},
     "output_type": "execute_result"
    }
   ],
   "source": [
    "a.Case(300,800)"
   ]
  },
  {
   "cell_type": "code",
   "execution_count": null,
   "id": "0ee29885",
   "metadata": {},
   "outputs": [],
   "source": []
  }
 ],
 "metadata": {
  "kernelspec": {
   "display_name": "Python 3 (ipykernel)",
   "language": "python",
   "name": "python3"
  },
  "language_info": {
   "codemirror_mode": {
    "name": "ipython",
    "version": 3
   },
   "file_extension": ".py",
   "mimetype": "text/x-python",
   "name": "python",
   "nbconvert_exporter": "python",
   "pygments_lexer": "ipython3",
   "version": "3.8.8"
  }
 },
 "nbformat": 4,
 "nbformat_minor": 5
}
