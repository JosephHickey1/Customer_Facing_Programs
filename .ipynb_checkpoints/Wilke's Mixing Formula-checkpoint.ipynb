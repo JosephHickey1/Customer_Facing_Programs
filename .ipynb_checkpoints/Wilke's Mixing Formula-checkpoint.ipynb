{
 "cells": [
  {
   "cell_type": "markdown",
   "id": "3e648337",
   "metadata": {},
   "source": [
    "Implementation of Wilke's Mixing Formula found in equations 2 & 3 of \n",
    "#### A Simple and Accurate Method for Calculating Viscosity of Gaseous Mixtures\n",
    "By Thomas A Davidson, 1993, Dept of the Interior, Bureau of Mines"
   ]
  },
  {
   "cell_type": "code",
   "execution_count": null,
   "id": "7179df39",
   "metadata": {},
   "outputs": [],
   "source": [
    "import numpy as np"
   ]
  },
  {
   "cell_type": "code",
   "execution_count": null,
   "id": "007e9614",
   "metadata": {},
   "outputs": [],
   "source": [
    "# List of tuples (Gas Viscosity, Molecular Weight)\n",
    "gas_data = []\n",
    "# List of mole fractions same length as above list \n",
    "frac = []\n",
    "numGases = int(input(\"How many gases are being mixed? \"))\n",
    "\n",
    "for i in range(numGases):\n",
    "    j, k = float(input(\"Gas Molecular Weight: \")), float(input(\"Gas Viscosity: \"))\n",
    "    gas_data.append((j, k))\n",
    "    l = float(input(\"Percent of Final Gas Mixture: \"))/100\n",
    "    frac.append(l)\n",
    "print(gas_data, frac)\n",
    "  "
   ]
  },
  {
   "cell_type": "code",
   "execution_count": null,
   "id": "73761aa5",
   "metadata": {},
   "outputs": [],
   "source": [
    "phi = np.ones((numGases,numGases))\n",
    "gas_data = np.asarray(gas_data)\n",
    "frac = np.asarray(frac)"
   ]
  },
  {
   "cell_type": "code",
   "execution_count": null,
   "id": "c82f2ffd",
   "metadata": {},
   "outputs": [],
   "source": [
    "for i in range(numGases):\n",
    "    for j in range(numGases):\n",
    "        phi[i,j] = (((1 + np.sqrt(gas_data[i,1]/gas_data[j,1]) * np.sqrt(np.sqrt(gas_data[j,0]/gas_data[i,0])))**2) / \\\n",
    "                    (4 * np.sqrt(1 + (gas_data[i,0]/gas_data[j,0])) / np.sqrt(2)))"
   ]
  },
  {
   "cell_type": "code",
   "execution_count": null,
   "id": "f70f03a5",
   "metadata": {},
   "outputs": [],
   "source": [
    "visc = 0\n",
    "for i in range(numGases):\n",
    "    \n",
    "    coefficient = 0\n",
    "    \n",
    "    for j in range(numGases):\n",
    "        if i != j:\n",
    "            coefficient += frac[j] * phi[i,j]\n",
    "    \n",
    "    visc += (frac[i] * gas_data[i,1] / (frac[i] + coefficient))\n",
    "    "
   ]
  },
  {
   "cell_type": "code",
   "execution_count": null,
   "id": "3e76b716",
   "metadata": {},
   "outputs": [],
   "source": [
    "print(\"The viscosity of this mixture is: \", visc)"
   ]
  }
 ],
 "metadata": {
  "kernelspec": {
   "display_name": "Python 3 (ipykernel)",
   "language": "python",
   "name": "python3"
  },
  "language_info": {
   "codemirror_mode": {
    "name": "ipython",
    "version": 3
   },
   "file_extension": ".py",
   "mimetype": "text/x-python",
   "name": "python",
   "nbconvert_exporter": "python",
   "pygments_lexer": "ipython3",
   "version": "3.8.8"
  }
 },
 "nbformat": 4,
 "nbformat_minor": 5
}
