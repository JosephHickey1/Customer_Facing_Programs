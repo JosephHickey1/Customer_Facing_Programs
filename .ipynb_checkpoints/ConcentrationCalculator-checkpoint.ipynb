{
 "cells": [
  {
   "cell_type": "code",
   "execution_count": 3,
   "id": "98af6941",
   "metadata": {},
   "outputs": [],
   "source": [
    "try:\n",
    "    import numpy as np\n",
    "    import matplotlib.pyplot as plt\n",
    "except ImportError:\n",
    "    print(\"An error occurred while loading the numpy and matplotlib modules. Please check that these are loaded on your device and in your Python path.\")"
   ]
  },
  {
   "cell_type": "code",
   "execution_count": 74,
   "id": "1ac4424d",
   "metadata": {},
   "outputs": [],
   "source": [
    "class ConcentrationCalculator():\n",
    "    \"\"\"A suite of functions to test the effectiveness of different gas mixing setups.\n",
    "    Availiable attributes include average case and worse case accuracy of concentration \n",
    "    as well as an automated rough sizing of Alicat devices.\n",
    "    \"\"\"\n",
    "    \n",
    "\n",
    "    \n",
    "    def __init__(self, maxconc = 1000, minconc = 1, maxflow = 1000, minflow = 1, \\\n",
    "                 tankconc: list = [5000,100], alicatsizes: list = []):\n",
    "        \"\"\"Init function creates class attributes.\n",
    "        Parameters:\n",
    "            maxconc: Maximum concentration of span gas in PPM\n",
    "            minconc: Minimum concentration of span gas in PPM, use decimals for PPB\n",
    "            maxflow: Maximum flow rate of mixed gas in SCCM\n",
    "            minflow: Minimum flow rate of mixed gas in SCCM\n",
    "            tankconc: List of span gas concentrations available from supply tanks\n",
    "            alicatsizes: List of alicat flow rates to use, can also take nonstandard sizes\n",
    "        \"\"\"\n",
    "        self.corrosive = False\n",
    "        if str(input(\"Will this use gases from our corrosive gas list? Y/N: \")).upper() == ('Y' or 'YES'):\n",
    "            self.corrosive = True\n",
    "        \n",
    "        self.HC = False\n",
    "        if str(input(\"Use high accuracy calibration devices? Y/N: \")).upper() == ('Y' or 'YES'):\n",
    "            self.HC = True\n",
    "        \n",
    "        self.maxconc = maxconc\n",
    "        self.minconc = minconc\n",
    "        self.maxflow = maxflow\n",
    "        self.minflow = minflow\n",
    "        self.tankconc = np.asarray(tankconc)\n",
    "        \n",
    "        if bool(alicatsizes):\n",
    "            self.alicatsizes = np.asarray(alicatsizes)\n",
    "        else:\n",
    "            ratio = tankconc[0] // tankconc[1]\n",
    "            alicatsizes = []\n",
    "            i = self.maxflow\n",
    "            \n",
    "            while i >= (10 * (self.minflow)):\n",
    "                alicatsizes.append(i)\n",
    "                i /= 10\n",
    "            self.alicatsizes = np.asarray(alicatsizes)\n",
    "            \n",
    "        \n",
    "    \n",
    "    def Accuracy(self, flow, size):\n",
    "        \n",
    "        accuracy = []\n",
    "        \n",
    "        if self.corrosive:\n",
    "            if self.HC:\n",
    "                accuracy = [0.004, 0.002*size]\n",
    "            else:\n",
    "                accuracy = [0.008, 0.002*size]\n",
    "        else:\n",
    "            if size <= 5:\n",
    "                if self.HC:\n",
    "                    accuracy = [0.004, 0.002*size]\n",
    "                else:\n",
    "                    accuracy = [0.008, 0.002*size]\n",
    "            elif size <= 20000:\n",
    "                if self.HC:\n",
    "                    if flow > size/2.5:\n",
    "                        accuracy = [0.005, 0.*size]\n",
    "                    else:\n",
    "                        accuracy = [0., 0.002*size]\n",
    "                else:\n",
    "                    if flow > size/3.:\n",
    "                        accuracy = [0.006, 0.*size]\n",
    "                    else:\n",
    "                        accuracy = [0., 0.002*size]\n",
    "            else:\n",
    "                if self.HC:\n",
    "                    accuracy = [0.004, 0.002*size]\n",
    "                else:\n",
    "                    accuracy = [0.008, 0.002*size]\n",
    "                \n",
    "            \n",
    "        return np.asarray(accuracy)\n",
    "        \n",
    "    \n",
    "    def WorstCase(self, concentration, flow, size:list = []):\n",
    "        \n",
    "        tank = min(self.tankconc[np.where(self.tankconc > concentration)])        \n",
    "        \n",
    "        spanflow, carrierflow = flow * (concentration / tank), flow * (1 - concentration / tank)\n",
    "        \n",
    "        if bool(size):\n",
    "            spansize, carriersize = size[0], size[1]\n",
    "        else:\n",
    "            spansize = np.min(self.alicatsizes[np.where(spanflow < self.alicatsizes)])\n",
    "            carriersize = np.min(self.alicatsizes[np.where(carrierflow < self.alicatsizes)])\n",
    "        \n",
    "        spanacc, carrieracc = self.Accuracy(spanflow, spansize), self.Accuracy(carrierflow, carriersize)\n",
    "        \n",
    "        spanerr, carriererr = spanacc[0] * spanflow + spanacc[1], carrieracc[0] * carrierflow + carrieracc[1]\n",
    "        \n",
    "        sl, sh = spanflow - spanerr, spanflow + spanerr\n",
    "        cl, ch = carrierflow - carriererr, carrierflow + carriererr\n",
    "        \n",
    "        low = sl / (sl + ch) * tank\n",
    "        high = sh / (sh + cl) * tank\n",
    "        \n",
    "        return low, high\n",
    "        \n",
    "    \n",
    "    def AvgCase(self, concentration, flow, size: list = []):\n",
    "        \n",
    "        tank = np.min(self.tankconc[np.where(self.tankconc > concentration)]) \n",
    "        \n",
    "        spanflow, carrierflow = flow * (concentration / tank), flow * (1 - concentration / tank)\n",
    "        \n",
    "        if bool(size):\n",
    "            spansize, carriersize = size[0], size[1]\n",
    "        else:\n",
    "            spansize = np.min(self.alicatsizes[np.where(spanflow < self.alicatsizes)])\n",
    "            carriersize = np.min(self.alicatsizes[np.where(carrierflow < self.alicatsizes)])\n",
    "        \n",
    "        spanacc, carrieracc = self.Accuracy(spanflow, spansize), self.Accuracy(carrierflow, carriersize)\n",
    "        \n",
    "        spanerr = np.sqrt((spanflow * spanacc[0])**2 + spanacc[1]**2)\n",
    "        carriererr = np.sqrt((carrierflow * carrieracc[0])**2 + carrieracc**2)\n",
    "        \n",
    "        sl, sh = spanflow - spanerr, spanflow + spanerr\n",
    "        cl, ch = carrierflow - carriererr, carrierflow + carriererr\n",
    "        \n",
    "        low = sl / (sl + ch) * tank\n",
    "        high = sh / (sh + cl) * tank\n",
    "        \n",
    "        return low[0], high[0]\n",
    "        \n",
    "        \n",
    "    def TestRanges(self):\n",
    "        \n",
    "        flows = np.linspace(self.minflow, self.maxflow, num=20, dtype=int)\n",
    "        concentrations = np.linspace(self.minconc, self.maxconc, num=20, dtype=int)\n",
    "        \n",
    "        return np.asarray([flows, concentrations])\n",
    "        \n",
    "    \n",
    "    def WholeShebang(self, flows=None, concentrations=None):\n",
    "        \n",
    "        if not bool(flows):\n",
    "            flows = self.TestRanges()[0]\n",
    "            \n",
    "        if not bool(concentrations):\n",
    "            concentrations = self.TestRanges()[1]\n",
    "        \n",
    "        stats = []\n",
    "        \n",
    "        for c in concentrations:\n",
    "            \n",
    "            for f in flows:\n",
    "                \n",
    "                flow = f\n",
    "                conc = c\n",
    "                concerravg = np.nan_to_num(np.asarray(self.AvgCase(conc,flow)),copy=False,nan=0)\n",
    "                concerrworst = np.nan_to_num(np.asarray(self.WorstCase(conc, flow)),copy=False,nan=0)\n",
    "                stats.append([flow, conc, concerravg, concerrworst])\n",
    "            \n",
    "        return np.asarray(stats,dtype=object)\n",
    "        \n",
    "    \n",
    "    \n",
    "    def Case(self, conc, flow, size: list = []):\n",
    "        \n",
    "        avgerr = self.AvgCase(conc, flow, size)\n",
    "        wrsterr = self.WorstCase(conc, flow, size)\n",
    "        \n",
    "        tank = np.min(self.tankconc[np.where(self.tankconc > conc)]) \n",
    "        spanflow, carrierflow = flow * (conc / tank), flow * (1 - conc / tank)\n",
    "        \n",
    "        if bool(size):\n",
    "            spansize, carriersize = size[0], size[1]\n",
    "        else:\n",
    "            spansize = np.min(self.alicatsizes[np.where(spanflow <= self.alicatsizes)])\n",
    "            carriersize = np.min(self.alicatsizes[np.where(carrierflow <= self.alicatsizes)])\n",
    "        \n",
    "        return np.array([spanflow, spansize, tank, carrierflow, carriersize, avgerr[0], avgerr[1], wrsterr[0], wrsterr[1]])\n",
    "    \n",
    "    \n",
    "    "
   ]
  },
  {
   "cell_type": "code",
   "execution_count": 75,
   "id": "ff6d696c",
   "metadata": {},
   "outputs": [
    {
     "name": "stdout",
     "output_type": "stream",
     "text": [
      "Will this use gases from our corrosive gas list? Y/N: n\n",
      "Use high accuracy calibration devices? Y/N: n\n"
     ]
    }
   ],
   "source": [
    "a = ConcentrationCalculator(maxconc=1000,maxflow=1000,tankconc=[50,2500])"
   ]
  },
  {
   "cell_type": "code",
   "execution_count": 76,
   "id": "ee3656d9",
   "metadata": {},
   "outputs": [
    {
     "data": {
      "text/plain": [
       "(296.8463789308631, 303.1825138782477)"
      ]
     },
     "execution_count": 76,
     "metadata": {},
     "output_type": "execute_result"
    }
   ],
   "source": [
    "a.AvgCase(300, 800)"
   ]
  },
  {
   "cell_type": "code",
   "execution_count": 77,
   "id": "77f2406b",
   "metadata": {},
   "outputs": [
    {
     "data": {
      "text/plain": [
       "(296.8463805048977, 303.1825122558868)"
      ]
     },
     "execution_count": 77,
     "metadata": {},
     "output_type": "execute_result"
    }
   ],
   "source": [
    "a.WorstCase(300, 800)"
   ]
  },
  {
   "cell_type": "code",
   "execution_count": 78,
   "id": "6f86a54c",
   "metadata": {},
   "outputs": [
    {
     "data": {
      "text/plain": [
       "array([  96.        , 1000.        , 2500.        ,  704.        ,\n",
       "       1000.        ,  292.93563737,  307.10375006,  292.93563892,\n",
       "        307.10374842])"
      ]
     },
     "execution_count": 78,
     "metadata": {},
     "output_type": "execute_result"
    }
   ],
   "source": [
    "a.Case(300, 800,[1000,1000])"
   ]
  },
  {
   "cell_type": "code",
   "execution_count": 79,
   "id": "44cff9d4",
   "metadata": {},
   "outputs": [
    {
     "data": {
      "text/plain": [
       "array([  96.        ,  100.        , 2500.        ,  704.        ,\n",
       "       1000.        ,  296.84637893,  303.18251388,  296.8463805 ,\n",
       "        303.18251226])"
      ]
     },
     "execution_count": 79,
     "metadata": {},
     "output_type": "execute_result"
    }
   ],
   "source": [
    "a.Case(300,800)"
   ]
  },
  {
   "cell_type": "code",
   "execution_count": null,
   "id": "0ee29885",
   "metadata": {},
   "outputs": [],
   "source": []
  }
 ],
 "metadata": {
  "kernelspec": {
   "display_name": "Python 3 (ipykernel)",
   "language": "python",
   "name": "python3"
  },
  "language_info": {
   "codemirror_mode": {
    "name": "ipython",
    "version": 3
   },
   "file_extension": ".py",
   "mimetype": "text/x-python",
   "name": "python",
   "nbconvert_exporter": "python",
   "pygments_lexer": "ipython3",
   "version": "3.8.8"
  }
 },
 "nbformat": 4,
 "nbformat_minor": 5
}
