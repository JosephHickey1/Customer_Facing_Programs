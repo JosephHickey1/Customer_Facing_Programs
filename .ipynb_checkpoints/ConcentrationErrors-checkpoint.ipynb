{
 "cells": [
  {
   "cell_type": "code",
   "execution_count": 1,
   "id": "47e48d17",
   "metadata": {},
   "outputs": [],
   "source": [
    "def concentration(flow_rate, concentration: int, tank: int):\n",
    "    \"\"\" Calculates the upper and lower concentrations in part-per-million PPM in gas\n",
    "    mixing application for Ammonia in air with a Sierra Smart Trak 50 controlling\n",
    "    flow of the air and Alicat MCS-5SLPM-D controlling NH3 from a 50 or 2500 ppm source.\n",
    "    Parameters:\n",
    "            flow_rate: Needed flow rate in SCCM to fill mixing chamber for process supply\n",
    "            concentration: Concentration of NH3in PPM that final mixture should have\n",
    "            tank: Concentration of NH3 in PPM in supply tank (50 or 2500)\n",
    "            \n",
    "    Returns:\n",
    "        A tuple of the lowest and highest concentrations in PPM that may result in worst case.\"\"\"\n",
    "    \n",
    "    \n",
    "    errAli = 0.008 # % of reading not including full scale error\n",
    "    \n",
    "    NH3flow = flow_rate * concentration/tank # Expected flow rates\n",
    "    Airflow = flow_rate * (1 - concentration/tank)\n",
    "    \n",
    "    NH3min = NH3flow - (NH3flow * errAli) - 2 # 2 sccm full scale error\n",
    "    NH3max = NH3flow + (NH3flow * errAli) + 2\n",
    "    Airmin = Airflow - 50 # 50 sccm full scale error\n",
    "    Airmax = Airflow + 50\n",
    "    \n",
    "    flowlow = NH3max + Airmin # flow rates for richest and leanest mixtures\n",
    "    flowhigh = NH3min + Airmax \n",
    "    \n",
    "    conchigh = tank * NH3max / flowlow # weighted flow rate percentage multiplied by source concentration\n",
    "    conclow = tank * NH3min / flowhigh\n",
    "    \n",
    "    return (conclow, conchigh)"
   ]
  }
 ],
 "metadata": {
  "kernelspec": {
   "display_name": "Python 3 (ipykernel)",
   "language": "python",
   "name": "python3"
  },
  "language_info": {
   "codemirror_mode": {
    "name": "ipython",
    "version": 3
   },
   "file_extension": ".py",
   "mimetype": "text/x-python",
   "name": "python",
   "nbconvert_exporter": "python",
   "pygments_lexer": "ipython3",
   "version": "3.8.8"
  }
 },
 "nbformat": 4,
 "nbformat_minor": 5
}
